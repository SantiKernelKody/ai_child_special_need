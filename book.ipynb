{
 "cells": [
  {
   "cell_type": "code",
   "execution_count": 6,
   "metadata": {},
   "outputs": [
    {
     "name": "stdout",
     "output_type": "stream",
     "text": [
      "100\n"
     ]
    }
   ],
   "source": [
    "import psycopg2\n",
    "import json\n",
    "\n",
    "# Configuración de la conexión a la base de datos\n",
    "conn = psycopg2.connect(\n",
    "    dbname=\"midi_db\",\n",
    "    user=\"postgres\",\n",
    "    password=\"1234\",\n",
    "    host=\"localhost\",\n",
    "    port=\"5432\"\n",
    ")\n",
    "\n",
    "# Crear un cursor\n",
    "cur = conn.cursor()\n",
    "\n",
    "# Consulta SQL para obtener los IDs de los usuarios\n",
    "query = \"\"\"\n",
    "SELECT DISTINCT j.id\n",
    "FROM jugador j\n",
    "JOIN nivel_usuario nu ON j.id = nu.id_usuario\n",
    "WHERE nu.id_nivel BETWEEN 246 AND 260;\n",
    "\"\"\"\n",
    "\n",
    "# Ejecutar la consulta\n",
    "cur.execute(query)\n",
    "\n",
    "# Obtener los resultados\n",
    "user_ids = cur.fetchall()\n",
    "\n",
    "# Cerrar el cursor y la conexión\n",
    "cur.close()\n",
    "conn.close()\n",
    "\n",
    "# Extraer los IDs en una lista\n",
    "user_ids_list = [user_id[0] for user_id in user_ids]\n",
    "\n",
    "# Guardar los IDs en un archivo JSON\n",
    "with open('user_ids.json', 'w') as f:\n",
    "    json.dump(user_ids_list, f)\n",
    "\n",
    "# Leer los IDs desde el archivo JSON\n",
    "with open('user_ids.json', 'r') as f:\n",
    "    loaded_user_ids = json.load(f)\n",
    "\n",
    "# Mostrar los IDs leídos desde el archivo\n",
    "print(len(loaded_user_ids))\n"
   ]
  }
 ],
 "metadata": {
  "kernelspec": {
   "display_name": "Python 3",
   "language": "python",
   "name": "python3"
  },
  "language_info": {
   "codemirror_mode": {
    "name": "ipython",
    "version": 3
   },
   "file_extension": ".py",
   "mimetype": "text/x-python",
   "name": "python",
   "nbconvert_exporter": "python",
   "pygments_lexer": "ipython3",
   "version": "3.11.5"
  }
 },
 "nbformat": 4,
 "nbformat_minor": 2
}
